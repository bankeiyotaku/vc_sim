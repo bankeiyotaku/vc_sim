{
 "cells": [
  {
   "cell_type": "code",
   "execution_count": null,
   "id": "a65c1b88",
   "metadata": {},
   "outputs": [],
   "source": [
    "import pandas as pd\n",
    "import numpy as np\n",
    "import matplotlib.pyplot as plt"
   ]
  },
  {
   "cell_type": "code",
   "execution_count": null,
   "id": "6f56228e",
   "metadata": {},
   "outputs": [
    {
     "name": "stdout",
     "output_type": "stream",
     "text": [
      "Theoretical mean multiple = 3.80\n"
     ]
    }
   ],
   "source": [
    "\n",
    "\n",
    "def vc_returns(mat: np.ndarray) -> np.ndarray:\n",
    "    \"\"\"\n",
    "    Given an array/matrix `mat` with values in [0,1], return a new array\n",
    "    of the same shape where each value is binned as follows:\n",
    "    \n",
    "      [0.0,   0.8)    → 0x return\n",
    "      [0.8,   0.9)    → 1x return\n",
    "      [0.9,   0.99)   → 10x return\n",
    "      [0.99,  0.999)  → 100x return\n",
    "      [0.999, 0.9999) → 1000x return\n",
    "      [0.9999, 1.0]   → 10000x return\n",
    "    \"\"\"\n",
    "    # Define the bin edges at your “break” points\n",
    "    bins = [0.8, 0.9, 0.99, 0.999, 0.9999]\n",
    "    \n",
    "    # digitize returns, for each x in mat, the index i such that\n",
    "    #   bins[i-1] <= x < bins[i]\n",
    "    # with bins[-1] <= x handled as index = len(bins).\n",
    "    indices = np.digitize(mat, bins)\n",
    "    \n",
    "    # Now map those bin‐indices to your target values\n",
    "    mapping = np.array([0, 1, 10, 100, 1000, 10000])\n",
    "    \n",
    "    # Return an array of the same shape as mat\n",
    "    return mapping[indices]\n",
    "\n",
    "\n",
    "\n",
    "# bins and mapping stolen from vc_returns\n",
    "bins    = [0.8, 0.9, 0.99, 0.999, 0.9999]\n",
    "mapping = np.array([0, 1, 10, 100, 1000, 10000])\n",
    "\n",
    "# Turn break‐points into probability masses\n",
    "pmf = np.diff([0.0] + bins + [1.0])      # -> array([0.8 , 0.1 , 0.09 , 0.009 , 0.0009 , 0.0001])\n",
    "\n",
    "expected_single = (pmf * mapping).sum()  # 3.8\n",
    "print(f\"Theoretical mean multiple = {expected_single:.2f}\")\n",
    "\n",
    "\n",
    "\n",
    "\n"
   ]
  },
  {
   "cell_type": "code",
   "execution_count": 39,
   "id": "454629ff",
   "metadata": {},
   "outputs": [
    {
     "name": "stdout",
     "output_type": "stream",
     "text": [
      "Simulating portfolios of VC returns -- 100,000 trials per portfolio size\n",
      "Portfolio size, Loss (% of portfolios with < 1x return), High Loss (% of portfolios with < 0.5x return), Avg Return, Std, Min, Max\n",
      "---------------------------------------------------------------------\n",
      "Portfolio size: 5, Loss: 58.9%, High Loss: 58.3%, Avg Return: 3.70, Std: 44.21, Min: 0.00, Max: 2004.00\n",
      "Portfolio size: 10, Loss: 35.0%, High Loss: 34.9%, Avg Return: 3.81, Std: 32.99, Min: 0.00, Max: 1013.00\n",
      "Portfolio size: 20, Loss: 36.4%, High Loss: 12.1%, Avg Return: 3.90, Std: 24.24, Min: 0.00, Max: 551.10\n",
      "Portfolio size: 40, Loss: 33.4%, High Loss: 7.2%, Avg Return: 3.78, Std: 16.36, Min: 0.00, Max: 279.88\n",
      "Portfolio size: 80, Loss: 22.9%, High Loss: 2.0%, Avg Return: 3.74, Std: 11.45, Min: 0.04, Max: 265.52\n",
      "Portfolio size: 160, Loss: 9.9%, High Loss: 0.1%, Avg Return: 3.79, Std: 8.25, Min: 0.20, Max: 128.75\n",
      "Portfolio size: 320, Loss: 2.1%, High Loss: 0.0%, Avg Return: 3.79, Std: 5.84, Min: 0.44, Max: 70.93\n",
      "Portfolio size: 640, Loss: 0.1%, High Loss: 0.0%, Avg Return: 3.81, Std: 4.16, Min: 0.77, Max: 51.72\n"
     ]
    }
   ],
   "source": [
    "\n",
    "\n",
    "\n",
    "portfolio_sizes = [5, 10, 20, 40, 80, 160, 320, 640]\n",
    "\n",
    "# create a numpy array of size [1000,20] with random values in [0,1]\n",
    "\n",
    "print(\"Simulating portfolios of VC returns -- 100,000 trials per portfolio size\")\n",
    "print(\"Portfolio size, Loss (% of portfolios with < 1x return), High Loss (% of portfolios with < 0.5x return), Avg Return, Std, Min, Max\")\n",
    "print(\"---------------------------------------------------------------------\")\n",
    "\n",
    "for p_size in portfolio_sizes:\n",
    "\n",
    "    # create a numpy array of size [100000, p_size] with random values in [0,1]\n",
    "    random_array = np.random.rand(100000, p_size)\n",
    "\n",
    "    # trasform the random array to the VC returns\n",
    "    returns = vc_returns(random_array)\n",
    "\n",
    "    # calculate the mean return for each portfolio\n",
    "    port_returns = np.mean(returns, axis=1)\n",
    "\n",
    "\n",
    "\n",
    "    # calculate the mean and std across all portfolios\n",
    "    port_std = np.std(port_returns)\n",
    "    avg_return = np.mean(port_returns)\n",
    "\n",
    "\n",
    "    # calculate the loss and high loss\n",
    "    loss_port =  (port_returns < 1).sum() / port_returns.shape[0] * 100\n",
    "    high_loss_port =  (port_returns < 0.5).sum() / port_returns.shape[0] * 100\n",
    "    min_return = np.min(port_returns)   \n",
    "    max_return = np.max(port_returns)\n",
    "    \n",
    "    print(f\"Portfolio size: {p_size}, Loss: {loss_port:.1f}%, High Loss: {high_loss_port:.1f}%, Avg Return: {avg_return:.2f}, Std: {port_std:.2f}, Min: {min_return:.2f}, Max: {max_return:.2f}\")\n",
    "\n",
    "\n"
   ]
  }
 ],
 "metadata": {
  "kernelspec": {
   "display_name": "tdev",
   "language": "python",
   "name": "python3"
  },
  "language_info": {
   "codemirror_mode": {
    "name": "ipython",
    "version": 3
   },
   "file_extension": ".py",
   "mimetype": "text/x-python",
   "name": "python",
   "nbconvert_exporter": "python",
   "pygments_lexer": "ipython3",
   "version": "3.10.16"
  }
 },
 "nbformat": 4,
 "nbformat_minor": 5
}
